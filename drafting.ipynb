{
 "cells": [
  {
   "cell_type": "code",
   "execution_count": 1,
   "metadata": {},
   "outputs": [],
   "source": [
    "import requests \n",
    "from bs4 import BeautifulSoup\n",
    "import pandas as pd\n",
    "import pytz\n",
    "from datetime import datetime, timedelta"
   ]
  },
  {
   "cell_type": "code",
   "execution_count": 2,
   "metadata": {},
   "outputs": [],
   "source": [
    "bmkg = requests.get('https://data.bmkg.go.id/DataMKG/MEWS/DigitalForecast/DigitalForecast-JawaTimur.xml')"
   ]
  },
  {
   "cell_type": "code",
   "execution_count": 3,
   "metadata": {},
   "outputs": [],
   "source": [
    "def get_last_date(): \n",
    "    today = datetime.now().date() - timedelta(days=1)\n",
    "    date_str = today.strftime(\"%Y%m%d\")\n",
    "    date_00 = date_str + \"0000\"\n",
    "    date_06 = date_str + \"0600\"\n",
    "    date_12 = date_str + \"1200\"\n",
    "    date_18 = date_str + \"1800\"\n",
    "    hourly = (date_00, date_06, date_12, date_18)\n",
    "    return (date_str,hourly)"
   ]
  },
  {
   "cell_type": "code",
   "execution_count": 4,
   "metadata": {},
   "outputs": [
    {
     "name": "stdout",
     "output_type": "stream",
     "text": [
      "('20230508', ('202305080000', '202305080600', '202305081200', '202305081800'))\n"
     ]
    }
   ],
   "source": [
    "dates = get_last_date()\n",
    "print(dates)"
   ]
  },
  {
   "cell_type": "code",
   "execution_count": 5,
   "metadata": {},
   "outputs": [],
   "source": [
    "bs = BeautifulSoup(bmkg.content,features='xml')"
   ]
  },
  {
   "cell_type": "code",
   "execution_count": 6,
   "metadata": {},
   "outputs": [],
   "source": [
    "locations = bs.select(\"area\")"
   ]
  },
  {
   "cell_type": "code",
   "execution_count": 7,
   "metadata": {},
   "outputs": [
    {
     "name": "stdout",
     "output_type": "stream",
     "text": [
      "Kab. Bangkalan\n"
     ]
    }
   ],
   "source": [
    "bangkalan = locations[0]\n",
    "name = bangkalan.select(\"name\")[1]\n",
    "print(name.text)"
   ]
  },
  {
   "cell_type": "code",
   "execution_count": 8,
   "metadata": {},
   "outputs": [
    {
     "name": "stdout",
     "output_type": "stream",
     "text": [
      "{'id': '501272', 'latitude': '-7.033333333', 'longitude': '112.7667', 'coordinate': '112.7667 -7.033333333', 'type': 'land', 'region': '', 'level': '1', 'description': 'Bangkalan', 'domain': 'Jawa Timur', 'tags': ''}\n",
      "-7.033333333\n"
     ]
    }
   ],
   "source": [
    "attr = bangkalan.attrs\n",
    "print(attr)\n",
    "lat = attr.get('latitude')\n",
    "print(lat)"
   ]
  },
  {
   "cell_type": "code",
   "execution_count": 9,
   "metadata": {},
   "outputs": [
    {
     "name": "stdout",
     "output_type": "stream",
     "text": [
      "[<value unit=\"C\">33</value>]\n"
     ]
    }
   ],
   "source": [
    "target_date = get_last_date()[0]\n",
    "tmax = bangkalan.select(f'parameter[id=\"tmax\"] timerange[day=\"{target_date}\"] value[unit=\"C\"]')\n",
    "print(tmax)"
   ]
  },
  {
   "cell_type": "code",
   "execution_count": 13,
   "metadata": {},
   "outputs": [
    {
     "name": "stdout",
     "output_type": "stream",
     "text": [
      "[<value unit=\"C\">25</value>]\n"
     ]
    }
   ],
   "source": [
    "tmin = bangkalan.select(f'parameter[id=\"tmin\"] timerange[day=\"{target_date}\"] value[unit=\"C\"]')\n",
    "print(tmin)"
   ]
  },
  {
   "cell_type": "code",
   "execution_count": 15,
   "metadata": {},
   "outputs": [
    {
     "name": "stdout",
     "output_type": "stream",
     "text": [
      "[<value unit=\"%\">65</value>]\n"
     ]
    }
   ],
   "source": [
    "humin = bangkalan.select(f'parameter[id=\"humin\"] timerange[day=\"{target_date}\"] value')\n",
    "print(humin)"
   ]
  },
  {
   "cell_type": "code",
   "execution_count": 16,
   "metadata": {},
   "outputs": [
    {
     "name": "stdout",
     "output_type": "stream",
     "text": [
      "[<value unit=\"%\">65</value>]\n"
     ]
    }
   ],
   "source": [
    "humax = bangkalan.select(f'parameter[id=\"humax\"] timerange[day=\"{target_date}\"] value')\n",
    "print(humin)"
   ]
  },
  {
   "cell_type": "code",
   "execution_count": 24,
   "metadata": {},
   "outputs": [
    {
     "name": "stdout",
     "output_type": "stream",
     "text": [
      "[<value unit=\"icon\">0</value>, <value unit=\"icon\">1</value>, <value unit=\"icon\">0</value>, <value unit=\"icon\">1</value>]\n"
     ]
    }
   ],
   "source": [
    "weather = bangkalan.select(f'parameter[id=\"weather\"] timerange[datetime ^=\"{target_date}\"] value')\n",
    "print(weather)"
   ]
  },
  {
   "cell_type": "code",
   "execution_count": null,
   "metadata": {},
   "outputs": [],
   "source": []
  }
 ],
 "metadata": {
  "interpreter": {
   "hash": "db5a131c6c5b541f3a571dc886dbc2243b8c92334a166a2d5eee34de655b6ca4"
  },
  "kernelspec": {
   "display_name": "Python 3.9.12 ('temp_env': venv)",
   "language": "python",
   "name": "python3"
  },
  "language_info": {
   "codemirror_mode": {
    "name": "ipython",
    "version": 3
   },
   "file_extension": ".py",
   "mimetype": "text/x-python",
   "name": "python",
   "nbconvert_exporter": "python",
   "pygments_lexer": "ipython3",
   "version": "3.9.12"
  },
  "orig_nbformat": 4
 },
 "nbformat": 4,
 "nbformat_minor": 2
}
